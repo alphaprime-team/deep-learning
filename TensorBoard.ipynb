{
 "cells": [
  {
   "cell_type": "code",
   "execution_count": 1,
   "id": "6287055e-349b-401e-b80b-0cd6a78cd9b2",
   "metadata": {},
   "outputs": [
    {
     "name": "stdout",
     "output_type": "stream",
     "text": [
      "Populating the interactive namespace from numpy and matplotlib\n"
     ]
    }
   ],
   "source": [
    "%pylab inline\n",
    "import torch\n",
    "\n",
    "%load_ext tensorboard"
   ]
  },
  {
   "cell_type": "code",
   "execution_count": 2,
   "id": "1c33b154-3d11-4cda-9695-310b60d3cdbb",
   "metadata": {},
   "outputs": [
    {
     "data": {
      "text/html": [
       "\n",
       "      <iframe id=\"tensorboard-frame-1e02782f8cda555b\" width=\"100%\" height=\"800\" frameborder=\"0\">\n",
       "      </iframe>\n",
       "      <script>\n",
       "        (function() {\n",
       "          const frame = document.getElementById(\"tensorboard-frame-1e02782f8cda555b\");\n",
       "          const url = new URL(\"/\", window.location);\n",
       "          const port = 6006;\n",
       "          if (port) {\n",
       "            url.port = port;\n",
       "          }\n",
       "          frame.src = url;\n",
       "        })();\n",
       "      </script>\n",
       "    "
      ],
      "text/plain": [
       "<IPython.core.display.HTML object>"
      ]
     },
     "metadata": {},
     "output_type": "display_data"
    }
   ],
   "source": [
    "import torch.utils.tensorboard as tb\n",
    "import tempfile\n",
    "log_dir = tempfile.mkdtemp()\n",
    "%tensorboard --logdir {log_dir} --reload_interval 1"
   ]
  },
  {
   "cell_type": "code",
   "execution_count": 3,
   "id": "2adf785c-b5be-40c1-b3fe-a8cc68729bc8",
   "metadata": {},
   "outputs": [],
   "source": [
    "logger = tb.SummaryWriter(log_dir+'/test', flush_secs=1)"
   ]
  },
  {
   "cell_type": "code",
   "execution_count": 5,
   "id": "02fd9339-3b28-47e6-a887-31a9b59a0cfb",
   "metadata": {},
   "outputs": [],
   "source": [
    "logger.add_scalar('first/number', 0, global_step=0)\n",
    "logger.add_scalar('first/number', 1, global_step=1)"
   ]
  },
  {
   "cell_type": "code",
   "execution_count": 7,
   "id": "38b61a22-2f88-446e-819b-726920aee3ea",
   "metadata": {},
   "outputs": [],
   "source": [
    "logger.add_scalar('first/number2', 0.25, global_step=0)\n",
    "logger.add_scalar('first/number2', 0.75, global_step=1)"
   ]
  },
  {
   "cell_type": "code",
   "execution_count": 9,
   "id": "69f15158-d47f-4a0d-878f-53162a802ad9",
   "metadata": {},
   "outputs": [],
   "source": [
    "logger.add_histogram('first/hist', np.array([1, 2, 3, 3, 2, 1, 1, 1]), global_step=0)"
   ]
  },
  {
   "cell_type": "code",
   "execution_count": 13,
   "id": "f135efe5-3e5e-44d8-80d0-2b82e23f3b6c",
   "metadata": {},
   "outputs": [],
   "source": [
    "logger.add_histogram('first/hist2', np.random.rand(100), global_step=0)"
   ]
  },
  {
   "cell_type": "code",
   "execution_count": 15,
   "id": "378f5445-13e0-40e7-bbc7-96ba875d2bce",
   "metadata": {},
   "outputs": [],
   "source": [
    "logger.add_histogram('first/hist2', np.random.rand(100), global_step=1)"
   ]
  },
  {
   "cell_type": "code",
   "execution_count": 17,
   "id": "56047962-918a-49de-984f-e8ebfe4e1a15",
   "metadata": {},
   "outputs": [],
   "source": [
    "logger.add_histogram('first/hist2', np.random.rand(100), global_step=2)\n",
    "logger.add_histogram('first/hist2', np.random.rand(100), global_step=3)"
   ]
  },
  {
   "cell_type": "code",
   "execution_count": 18,
   "id": "a786d41c-ffda-45c2-84fb-44dac3c3e0da",
   "metadata": {},
   "outputs": [],
   "source": [
    "logger.add_image('first/image', (np.random.rand(3, 100, 50)*255).astype(np.uint8), global_step=0)"
   ]
  },
  {
   "cell_type": "code",
   "execution_count": 19,
   "id": "36c50a90-f1c3-408d-a2fa-7389f1ed1681",
   "metadata": {},
   "outputs": [],
   "source": [
    "logger.add_image('first/image', (np.random.rand(3, 100, 50)*255).astype(np.uint8), global_step=1)"
   ]
  },
  {
   "cell_type": "code",
   "execution_count": 20,
   "id": "4616dc2a-53d5-4d3b-ace1-042838a0e879",
   "metadata": {},
   "outputs": [],
   "source": [
    "for i, x in enumerate(np.random.rand(100)):\n",
    "    logger.add_scalar('first/noise', x + 0.1*i, global_step=i)"
   ]
  }
 ],
 "metadata": {
  "kernelspec": {
   "display_name": "Python 3",
   "language": "python",
   "name": "python3"
  },
  "language_info": {
   "codemirror_mode": {
    "name": "ipython",
    "version": 3
   },
   "file_extension": ".py",
   "mimetype": "text/x-python",
   "name": "python",
   "nbconvert_exporter": "python",
   "pygments_lexer": "ipython3",
   "version": "3.7.10"
  }
 },
 "nbformat": 4,
 "nbformat_minor": 5
}
