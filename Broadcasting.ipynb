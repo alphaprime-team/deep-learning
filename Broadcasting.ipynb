{
 "cells": [
  {
   "cell_type": "code",
   "execution_count": 2,
   "id": "e255c5ed-18f1-47bc-ba23-af67c7118f94",
   "metadata": {},
   "outputs": [],
   "source": [
    "import torch"
   ]
  },
  {
   "cell_type": "code",
   "execution_count": 4,
   "id": "63aec002-9e9a-47f2-ac83-5241a675d2aa",
   "metadata": {},
   "outputs": [
    {
     "name": "stdout",
     "output_type": "stream",
     "text": [
      "tensor([0, 1, 2, 3, 4, 5, 6, 7, 8, 9])\n",
      "tensor([ 0, 10, 20, 30, 40, 50, 60, 70, 80, 90])\n"
     ]
    }
   ],
   "source": [
    "a = torch.arange(10)\n",
    "b = torch.arange(10)*10\n",
    "print(a)\n",
    "print(b)"
   ]
  },
  {
   "cell_type": "code",
   "execution_count": 6,
   "id": "e8b4722a-41fd-440e-8a13-30f0b3d40bf1",
   "metadata": {},
   "outputs": [
    {
     "data": {
      "text/plain": [
       "tensor([ 0, 11, 22, 33, 44, 55, 66, 77, 88, 99])"
      ]
     },
     "execution_count": 6,
     "metadata": {},
     "output_type": "execute_result"
    }
   ],
   "source": [
    "a+b"
   ]
  },
  {
   "cell_type": "code",
   "execution_count": 8,
   "id": "72a8dfe1-0919-4386-8a54-a5e182c5ada4",
   "metadata": {},
   "outputs": [
    {
     "data": {
      "text/plain": [
       "(torch.Size([10]), torch.Size([10]))"
      ]
     },
     "execution_count": 8,
     "metadata": {},
     "output_type": "execute_result"
    }
   ],
   "source": [
    "a.shape, b.shape"
   ]
  },
  {
   "cell_type": "code",
   "execution_count": 11,
   "id": "3106d99d-55f3-4832-9cd3-b9a02c2fb7c1",
   "metadata": {},
   "outputs": [
    {
     "data": {
      "text/plain": [
       "torch.Size([1, 10])"
      ]
     },
     "execution_count": 11,
     "metadata": {},
     "output_type": "execute_result"
    }
   ],
   "source": [
    "a[None].shape"
   ]
  },
  {
   "cell_type": "code",
   "execution_count": 14,
   "id": "269e7861-fc7e-429a-922b-2ed4ff9b8e97",
   "metadata": {},
   "outputs": [
    {
     "data": {
      "text/plain": [
       "torch.Size([10, 1])"
      ]
     },
     "execution_count": 14,
     "metadata": {},
     "output_type": "execute_result"
    }
   ],
   "source": [
    "a[:,None].shape"
   ]
  },
  {
   "cell_type": "code",
   "execution_count": 15,
   "id": "863af93c-aaff-49f1-8251-c3063edad010",
   "metadata": {},
   "outputs": [
    {
     "data": {
      "text/plain": [
       "torch.Size([1, 10, 1])"
      ]
     },
     "execution_count": 15,
     "metadata": {},
     "output_type": "execute_result"
    }
   ],
   "source": [
    "a[None,:,None].shape"
   ]
  },
  {
   "cell_type": "code",
   "execution_count": 17,
   "id": "3961f035-48a2-458b-a995-a5b7382080a7",
   "metadata": {},
   "outputs": [
    {
     "data": {
      "text/plain": [
       "tensor([[[0],\n",
       "         [1],\n",
       "         [2],\n",
       "         [3],\n",
       "         [4],\n",
       "         [5],\n",
       "         [6],\n",
       "         [7],\n",
       "         [8],\n",
       "         [9]]])"
      ]
     },
     "execution_count": 17,
     "metadata": {},
     "output_type": "execute_result"
    }
   ],
   "source": [
    "a[None,:,None]"
   ]
  },
  {
   "cell_type": "code",
   "execution_count": 18,
   "id": "fd2a9e53-9654-457c-9f0e-4c4631a05513",
   "metadata": {},
   "outputs": [
    {
     "data": {
      "text/plain": [
       "torch.Size([1, 10])"
      ]
     },
     "execution_count": 18,
     "metadata": {},
     "output_type": "execute_result"
    }
   ],
   "source": [
    "c = a[None,:]\n",
    "c.shape"
   ]
  },
  {
   "cell_type": "code",
   "execution_count": 21,
   "id": "a866a48a-7c4b-41f5-9885-fb6f77f1bb3a",
   "metadata": {},
   "outputs": [
    {
     "data": {
      "text/plain": [
       "torch.Size([10])"
      ]
     },
     "execution_count": 21,
     "metadata": {},
     "output_type": "execute_result"
    }
   ],
   "source": [
    "c[0,:].shape"
   ]
  },
  {
   "cell_type": "code",
   "execution_count": 22,
   "id": "2e956b0b-f788-4c92-b3ef-4d572aabb2d0",
   "metadata": {},
   "outputs": [
    {
     "data": {
      "text/plain": [
       "torch.Size([10, 1])"
      ]
     },
     "execution_count": 22,
     "metadata": {},
     "output_type": "execute_result"
    }
   ],
   "source": [
    "c = a[:,None]\n",
    "c.shape"
   ]
  },
  {
   "cell_type": "code",
   "execution_count": 24,
   "id": "2416f7f5-2a49-411f-ab01-955e45585fff",
   "metadata": {},
   "outputs": [
    {
     "data": {
      "text/plain": [
       "torch.Size([10])"
      ]
     },
     "execution_count": 24,
     "metadata": {},
     "output_type": "execute_result"
    }
   ],
   "source": [
    "c[:,0].shape"
   ]
  },
  {
   "cell_type": "code",
   "execution_count": 29,
   "id": "243cb72b-7b19-44b7-85cf-35e3a59460c6",
   "metadata": {},
   "outputs": [
    {
     "name": "stdout",
     "output_type": "stream",
     "text": [
      "torch.Size([1, 10])\n",
      "tensor([[ 0, 11, 22, 33, 44, 55, 66, 77, 88, 99]])\n"
     ]
    }
   ],
   "source": [
    "print((a[None,:] + b[None,:]).shape)\n",
    "print(a[None,:] + b[None,:])"
   ]
  },
  {
   "cell_type": "code",
   "execution_count": 31,
   "id": "7b12bcbb-2de9-40ed-8400-abb6f4de544e",
   "metadata": {},
   "outputs": [
    {
     "data": {
      "text/plain": [
       "tensor([[2., 2.],\n",
       "        [2., 2.],\n",
       "        [2., 2.]])"
      ]
     },
     "execution_count": 31,
     "metadata": {},
     "output_type": "execute_result"
    }
   ],
   "source": [
    "torch.ones(3, 2) + torch.ones(3, 2)"
   ]
  },
  {
   "cell_type": "code",
   "execution_count": 33,
   "id": "31271348-d75d-4b3c-afda-86a37dc691e4",
   "metadata": {},
   "outputs": [
    {
     "data": {
      "text/plain": [
       "tensor([[11., 11.],\n",
       "        [11., 11.],\n",
       "        [11., 11.]])"
      ]
     },
     "execution_count": 33,
     "metadata": {},
     "output_type": "execute_result"
    }
   ],
   "source": [
    "torch.ones(3, 2) + 10"
   ]
  },
  {
   "cell_type": "code",
   "execution_count": 35,
   "id": "a7d36734-5dc6-4e89-93d7-a935441d431b",
   "metadata": {},
   "outputs": [
    {
     "data": {
      "text/plain": [
       "tensor([[2., 2., 2.],\n",
       "        [2., 2., 2.],\n",
       "        [2., 2., 2.]])"
      ]
     },
     "execution_count": 35,
     "metadata": {},
     "output_type": "execute_result"
    }
   ],
   "source": [
    "torch.ones(3, 1) + torch.ones(1, 3)"
   ]
  },
  {
   "cell_type": "code",
   "execution_count": 38,
   "id": "2ddc6974-11ea-454c-8a30-1b6eb07d503e",
   "metadata": {},
   "outputs": [
    {
     "data": {
      "text/plain": [
       "tensor([[ 0,  1,  2,  3,  4,  5,  6,  7,  8,  9],\n",
       "        [10, 11, 12, 13, 14, 15, 16, 17, 18, 19],\n",
       "        [20, 21, 22, 23, 24, 25, 26, 27, 28, 29],\n",
       "        [30, 31, 32, 33, 34, 35, 36, 37, 38, 39],\n",
       "        [40, 41, 42, 43, 44, 45, 46, 47, 48, 49],\n",
       "        [50, 51, 52, 53, 54, 55, 56, 57, 58, 59],\n",
       "        [60, 61, 62, 63, 64, 65, 66, 67, 68, 69],\n",
       "        [70, 71, 72, 73, 74, 75, 76, 77, 78, 79],\n",
       "        [80, 81, 82, 83, 84, 85, 86, 87, 88, 89],\n",
       "        [90, 91, 92, 93, 94, 95, 96, 97, 98, 99]])"
      ]
     },
     "execution_count": 38,
     "metadata": {},
     "output_type": "execute_result"
    }
   ],
   "source": [
    "a[None,:] + b[:,None]"
   ]
  },
  {
   "cell_type": "code",
   "execution_count": 42,
   "id": "68fa2635-6124-4715-a5b0-e200760443d2",
   "metadata": {},
   "outputs": [
    {
     "data": {
      "text/plain": [
       "tensor([[0, 1, 2, 3, 4, 5, 6, 7, 8, 9],\n",
       "        [0, 1, 2, 3, 4, 5, 6, 7, 8, 9],\n",
       "        [0, 1, 2, 3, 4, 5, 6, 7, 8, 9],\n",
       "        [0, 1, 2, 3, 4, 5, 6, 7, 8, 9],\n",
       "        [0, 1, 2, 3, 4, 5, 6, 7, 8, 9],\n",
       "        [0, 1, 2, 3, 4, 5, 6, 7, 8, 9],\n",
       "        [0, 1, 2, 3, 4, 5, 6, 7, 8, 9],\n",
       "        [0, 1, 2, 3, 4, 5, 6, 7, 8, 9],\n",
       "        [0, 1, 2, 3, 4, 5, 6, 7, 8, 9],\n",
       "        [0, 1, 2, 3, 4, 5, 6, 7, 8, 9]])"
      ]
     },
     "execution_count": 42,
     "metadata": {},
     "output_type": "execute_result"
    }
   ],
   "source": [
    "a[None,:].repeat(10, 1)"
   ]
  },
  {
   "cell_type": "code",
   "execution_count": 43,
   "id": "e7f36f47-3d51-4a00-aa0e-184cc702ae6d",
   "metadata": {},
   "outputs": [
    {
     "data": {
      "text/plain": [
       "tensor([[ 0,  0,  0,  0,  0,  0,  0,  0,  0,  0],\n",
       "        [10, 10, 10, 10, 10, 10, 10, 10, 10, 10],\n",
       "        [20, 20, 20, 20, 20, 20, 20, 20, 20, 20],\n",
       "        [30, 30, 30, 30, 30, 30, 30, 30, 30, 30],\n",
       "        [40, 40, 40, 40, 40, 40, 40, 40, 40, 40],\n",
       "        [50, 50, 50, 50, 50, 50, 50, 50, 50, 50],\n",
       "        [60, 60, 60, 60, 60, 60, 60, 60, 60, 60],\n",
       "        [70, 70, 70, 70, 70, 70, 70, 70, 70, 70],\n",
       "        [80, 80, 80, 80, 80, 80, 80, 80, 80, 80],\n",
       "        [90, 90, 90, 90, 90, 90, 90, 90, 90, 90]])"
      ]
     },
     "execution_count": 43,
     "metadata": {},
     "output_type": "execute_result"
    }
   ],
   "source": [
    "b[:,None].repeat(1, 10)"
   ]
  },
  {
   "cell_type": "code",
   "execution_count": 45,
   "id": "28ba7bed-7245-4b46-870e-16ad9bf46815",
   "metadata": {},
   "outputs": [
    {
     "data": {
      "text/plain": [
       "tensor([[ 0,  1,  2,  3,  4,  5,  6,  7,  8,  9],\n",
       "        [10, 11, 12, 13, 14, 15, 16, 17, 18, 19],\n",
       "        [20, 21, 22, 23, 24, 25, 26, 27, 28, 29],\n",
       "        [30, 31, 32, 33, 34, 35, 36, 37, 38, 39],\n",
       "        [40, 41, 42, 43, 44, 45, 46, 47, 48, 49],\n",
       "        [50, 51, 52, 53, 54, 55, 56, 57, 58, 59],\n",
       "        [60, 61, 62, 63, 64, 65, 66, 67, 68, 69],\n",
       "        [70, 71, 72, 73, 74, 75, 76, 77, 78, 79],\n",
       "        [80, 81, 82, 83, 84, 85, 86, 87, 88, 89],\n",
       "        [90, 91, 92, 93, 94, 95, 96, 97, 98, 99]])"
      ]
     },
     "execution_count": 45,
     "metadata": {},
     "output_type": "execute_result"
    }
   ],
   "source": [
    "a[None,:].repeat(10, 1) + b[:,None].repeat(1, 10)"
   ]
  },
  {
   "cell_type": "code",
   "execution_count": 47,
   "id": "6cef7c4a-b9d2-44d9-81bd-53ea1e92986c",
   "metadata": {},
   "outputs": [
    {
     "data": {
      "text/plain": [
       "tensor([[  0,   1,   2,   3,   4,   5,   6,   7,   8,   9],\n",
       "        [-10,  -9,  -8,  -7,  -6,  -5,  -4,  -3,  -2,  -1],\n",
       "        [-20, -19, -18, -17, -16, -15, -14, -13, -12, -11],\n",
       "        [-30, -29, -28, -27, -26, -25, -24, -23, -22, -21],\n",
       "        [-40, -39, -38, -37, -36, -35, -34, -33, -32, -31],\n",
       "        [-50, -49, -48, -47, -46, -45, -44, -43, -42, -41],\n",
       "        [-60, -59, -58, -57, -56, -55, -54, -53, -52, -51],\n",
       "        [-70, -69, -68, -67, -66, -65, -64, -63, -62, -61],\n",
       "        [-80, -79, -78, -77, -76, -75, -74, -73, -72, -71],\n",
       "        [-90, -89, -88, -87, -86, -85, -84, -83, -82, -81]])"
      ]
     },
     "execution_count": 47,
     "metadata": {},
     "output_type": "execute_result"
    }
   ],
   "source": [
    "a[None,:].repeat(10, 1) - b[:,None].repeat(1, 10)"
   ]
  },
  {
   "cell_type": "code",
   "execution_count": 49,
   "id": "ba81b861-faa6-4f0f-8487-6cb0c383ddc2",
   "metadata": {},
   "outputs": [
    {
     "data": {
      "text/plain": [
       "tensor([[  0,   0,   0,   0,   0,   0,   0,   0,   0,   0],\n",
       "        [  0,  10,  20,  30,  40,  50,  60,  70,  80,  90],\n",
       "        [  0,  20,  40,  60,  80, 100, 120, 140, 160, 180],\n",
       "        [  0,  30,  60,  90, 120, 150, 180, 210, 240, 270],\n",
       "        [  0,  40,  80, 120, 160, 200, 240, 280, 320, 360],\n",
       "        [  0,  50, 100, 150, 200, 250, 300, 350, 400, 450],\n",
       "        [  0,  60, 120, 180, 240, 300, 360, 420, 480, 540],\n",
       "        [  0,  70, 140, 210, 280, 350, 420, 490, 560, 630],\n",
       "        [  0,  80, 160, 240, 320, 400, 480, 560, 640, 720],\n",
       "        [  0,  90, 180, 270, 360, 450, 540, 630, 720, 810]])"
      ]
     },
     "execution_count": 49,
     "metadata": {},
     "output_type": "execute_result"
    }
   ],
   "source": [
    "a[None,:].repeat(10, 1) * b[:,None].repeat(1, 10)"
   ]
  }
 ],
 "metadata": {
  "kernelspec": {
   "display_name": "Python 3",
   "language": "python",
   "name": "python3"
  },
  "language_info": {
   "codemirror_mode": {
    "name": "ipython",
    "version": 3
   },
   "file_extension": ".py",
   "mimetype": "text/x-python",
   "name": "python",
   "nbconvert_exporter": "python",
   "pygments_lexer": "ipython3",
   "version": "3.7.10"
  }
 },
 "nbformat": 4,
 "nbformat_minor": 5
}
